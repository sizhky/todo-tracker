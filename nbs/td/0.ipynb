{
 "cells": [
  {
   "cell_type": "code",
   "execution_count": 1,
   "id": "3aef1f4c-adba-4015-8b42-a6e091022066",
   "metadata": {},
   "outputs": [
    {
     "name": "stdout",
     "output_type": "stream",
     "text": [
      "env: AD_MAX_ITEMS=1000\n",
      "env: AD_SHOW_FULL_STRINGS=1\n"
     ]
    }
   ],
   "source": [
    "%reload_ext autoreload\n",
    "%autoreload 2\n",
    "%env AD_MAX_ITEMS=1000\n",
    "%env AD_SHOW_FULL_STRINGS=1\n",
    "from torch_snippets import *"
   ]
  },
  {
   "cell_type": "code",
   "execution_count": 2,
   "id": "bbdf356d-91fe-4f19-a43e-c0ac7410cc9e",
   "metadata": {},
   "outputs": [
    {
     "name": "stdout",
     "output_type": "stream",
     "text": [
      "env: TDX=testing.db\n",
      "env: TDDB=testing\n"
     ]
    }
   ],
   "source": [
    "%env TDX=testing.db \n",
    "%env TDDB=testing"
   ]
  },
  {
   "cell_type": "code",
   "execution_count": 3,
   "id": "5d6c04d3-7d08-4fdc-bcb3-91822c80308f",
   "metadata": {},
   "outputs": [],
   "source": [
    "from td.v3 import NodeCrud, NodeCreate as NC, NodeType, NodeRead as NR, NodeUpdate as NU, NodeStatus"
   ]
  },
  {
   "cell_type": "code",
   "execution_count": 4,
   "id": "de9aa46c-653b-4954-8e2d-ca808e355b18",
   "metadata": {},
   "outputs": [],
   "source": [
    "n = NodeCrud()"
   ]
  },
  {
   "cell_type": "code",
   "execution_count": 25,
   "id": "aa16eac3-3ded-4da3-9beb-dcc8cd1817d1",
   "metadata": {},
   "outputs": [
    {
     "data": {
      "text/plain": [
       "↯ AttrDict ↯\n",
       "```a\n",
       "  __node - 🧩a... (sr) # a430 @ None (🏷️ SectorOutput)\n",
       "  b - 🧩b... (a) # 9399 @ a430 (🏷️ AreaOutput)\n",
       "  c\n",
       "    __node - 🧩c... (a) # 6f4f @ a430 (🏷️ AreaOutput)\n",
       "    *e* - 🧩*e*... (p) # 1654 @ 6f4f (🏷️ ProjectOutput)\n",
       "b\n",
       "  __node - 🧩b... (sr) # b439 @ None (🏷️ SectorOutput)\n",
       "  *sldkjf* - 🧩*sld... (a) # a689 @ b439 (🏷️ AreaOutput)\n",
       "pqrs\n",
       "  __node - 🧩pqrs... (p) # 5d05 @ cd1e (🏷️ ProjectOutput)\n",
       "  mnop - 🧩mnop... (sn) # f406 @ 5d05 (🏷️ SectionOutput)\n",
       "  *zy* - 🧩*zy*... (sn) # b1ae @ 5d05 (🏷️ SectionOutput)\n",
       "zxh - 🧩zxh... (p) # d670 @ cd1e (🏷️ ProjectOutput)\n",
       "\n",
       "```"
      ]
     },
     "execution_count": 25,
     "metadata": {},
     "output_type": "execute_result"
    }
   ],
   "source": [
    "n.tree"
   ]
  },
  {
   "cell_type": "code",
   "execution_count": 23,
   "id": "4cd1a991-8fb3-4afb-8c02-999c952a939b",
   "metadata": {},
   "outputs": [
    {
     "data": {
      "text/plain": [
       "datetime.datetime(2025, 6, 8, 4, 51, 33, 405188, tzinfo=datetime.timezone.utc)"
      ]
     },
     "execution_count": 23,
     "metadata": {},
     "output_type": "execute_result"
    }
   ],
   "source": []
  },
  {
   "cell_type": "code",
   "execution_count": null,
   "id": "d9f03c54-3bbc-4999-8cbb-d334d823199a",
   "metadata": {},
   "outputs": [],
   "source": [
    "y.updated_at"
   ]
  },
  {
   "cell_type": "code",
   "execution_count": 19,
   "id": "7cfd0f26-d7ac-456d-bcc9-ac9a5cc73c9e",
   "metadata": {},
   "outputs": [
    {
     "data": {
      "text/plain": [
       "datetime.datetime(2025, 6, 7, 23, 13, 23, 94009, tzinfo=datetime.timezone.utc)"
      ]
     },
     "execution_count": 19,
     "metadata": {},
     "output_type": "execute_result"
    }
   ],
   "source": [
    "y.updated_at.astimezone(timezone.utc)"
   ]
  },
  {
   "cell_type": "code",
   "execution_count": 16,
   "id": "4deb7bc0-3969-4967-933a-ac618acba0f1",
   "metadata": {},
   "outputs": [
    {
     "data": {
      "text/plain": [
       "datetime.datetime(2025, 6, 8, 4, 43, 23, 94009)"
      ]
     },
     "execution_count": 16,
     "metadata": {},
     "output_type": "execute_result"
    }
   ],
   "source": [
    "y = n.tree.b.__node.children[-1]\n",
    "y.updated_at"
   ]
  },
  {
   "cell_type": "code",
   "execution_count": 8,
   "id": "cfbed678-2005-456b-aeda-a90ff7832104",
   "metadata": {},
   "outputs": [
    {
     "data": {
      "text/plain": [
       "🧩x1... (a) # 4abc @ b439"
      ]
     },
     "execution_count": 8,
     "metadata": {},
     "output_type": "execute_result"
    }
   ],
   "source": [
    "n.WIPE_DB()\n",
    "n._create_node(NC(path='a/b'))\n",
    "n._create_node(NC(path='a/b/c/e'))\n",
    "n.promote_node(NC(path='a/b/c'))\n",
    "n._create_node(NC(path='a/c/e'))\n",
    "n._create_node(NC(path='a/c/e/x'))\n",
    "n._update_node(NU(path='a/c/e/x', new_title='x1'))\n",
    "n._update_node(NU(path='a/c/e/x1', new_path='b/x1'))\n",
    "n._update_node(NU(path='b/x1', status=NodeStatus.completed))\n",
    "# n.promote_node(NR(path='a/c/e/x'))\n",
    "# 'x', 'a/c/e'\n",
    "# 'x', 'a/c'\n",
    "# n._update_node(NU(path='a/c/x', new_status=NodeStatus.completed))"
   ]
  },
  {
   "cell_type": "code",
   "execution_count": 15,
   "id": "529a0925-9fe7-49d4-bc5e-6577fe22bda1",
   "metadata": {},
   "outputs": [
    {
     "data": {
      "text/plain": [
       "🧩z... (p) # 3b7a @ d1e1"
      ]
     },
     "execution_count": 15,
     "metadata": {},
     "output_type": "execute_result"
    }
   ],
   "source": [
    "n._update_node(NU(path='a/c/e/x1', new_path='x/y/z'))"
   ]
  },
  {
   "cell_type": "code",
   "execution_count": 17,
   "id": "01f29867-9b81-40b6-85cb-d8e82cdca38c",
   "metadata": {},
   "outputs": [
    {
     "data": {
      "text/plain": [
       "🧩c... (p) # 6a06 @ 99a8"
      ]
     },
     "execution_count": 17,
     "metadata": {},
     "output_type": "execute_result"
    }
   ],
   "source": [
    "n._update_node(NU(path='x/y/z', new_path='a/b/c'))"
   ]
  },
  {
   "cell_type": "code",
   "execution_count": 4,
   "id": "1e5cdba6-d78f-4609-9b4e-40549672af66",
   "metadata": {},
   "outputs": [
    {
     "name": "stdout",
     "output_type": "stream",
     "text": [
      "Old Node: path='tracker/v3/update' title='toggle'\n",
      "New Node: title='toggle' type=<NodeType.section: 300> path='tracker/v3/update' status=<NodeStatus.completed: 10> order=None meta=None parent_id=None\n",
      "\n",
      "\n",
      "Old Node: path='tracker/v3/update' title='priority'\n",
      "New Node: title='priority' type=<NodeType.section: 300> path='tracker/v3/update' status=<NodeStatus.completed: 10> order=None meta=None parent_id=None\n",
      "\n",
      "\n",
      "Old Node: path='tracker/v3/update' title='promote'\n",
      "New Node: title='promote' type=<NodeType.section: 300> path='tracker/v3/update' status=<NodeStatus.completed: 10> order=None meta=None parent_id=None\n",
      "\n",
      "\n",
      "Old Node: path='tracker/v3/update' title='change path'\n",
      "New Node: title='change path' type=<NodeType.section: 300> path='tracker/v3/update' status=<NodeStatus.completed: 10> order=None meta=None parent_id=None\n",
      "\n",
      "\n"
     ]
    },
    {
     "data": {
      "text/plain": [
       "[🧩dead... (p) # 6ac6 @ 3931,\n",
       " 🧩recu... (p) # 4f98 @ 3931,\n",
       " 🧩back... (p) # 05b3 @ 3931,\n",
       " 🧩noti... (p) # 78cf @ 3931,\n",
       " 🧩tags... (p) # 2e52 @ 3931,\n",
       " 🧩depe... (p) # fd52 @ 3931,\n",
       " 🧩enab... (p) # b9af @ 3931]"
      ]
     },
     "execution_count": 4,
     "metadata": {},
     "output_type": "execute_result"
    }
   ],
   "source": [
    "# n.WIPE_DB()\n",
    "# n._create_node(NC(path='sector/area/project/section/task/subtask'))\n",
    "# n._create_node(NC(path='personal/learning,calls'))\n",
    "# n._create_node(NC(path='personal/learning/RL,CUDA,Blender,Tool-Call,Agents,svelte-flow'))\n",
    "# n._create_node(NC(path='personal/learning/Agents/hf-course'))\n",
    "# n._create_node(NC(path='personal/learning/Tool-Call/hf-course'))\n",
    "# n._create_node(NC(path='personal/calls/anji,nani,harsha,mani-teja,ranraj,dinesh'))\n",
    "# n._create_node(NC(path='tracker/UI,stability,features,meta,docs,UX,v3'))\n",
    "# n._create_node(NC(path='tracker/UX/add path during update,launch api+mcp+web at once'))\n",
    "# n.toggle_complete(NC(path='tracker/UX/add path during update'))\n",
    "# n._create_node(NC(path='tracker/v3/update/toggle,priority,promote,change path'))\n",
    "# n._create_node(NC(path='tracker/v3/update/timer-ops/start-x,stop-x,stop everything,stop others and start-y,active-task,total-time-spent'))\n",
    "# n._create_node(NC(path='tracker/v3/update/timer-ops/total-time-spent/today,this-week,this-month'))\n",
    "# n.promote_node(NR(path='tracker/v3/update/timer-ops/'))\n",
    "# n._create_node(NC(path='tracker/UI/textual/add node'))\n",
    "# for i in 'toggle,priority,promote,change path'.split(','):\n",
    "#     n._update_node(NU(path=f'/tracker/v3/update/{i}', new_status=NodeStatus.completed))\n",
    "\n",
    "# n._create_node(NC(path='divami/onboarding/one-on-one/pramila,rajashekar,phawan,x,xx'))\n",
    "# n._create_node(NC(path='divami/onboarding/clients/BY/PPT/deliver,study deck from dinesh and add new ideas'))\n",
    "# n.toggle_critical(NR(path='divami/onboarding/clients/BY/PPT/study deck from dinesh and add new ideas'))\n",
    "# n.toggle_critical(NR(path='tracker/v3/timer-ops'))\n",
    "# n._create_node(NC(path='tracker/UI/textual/beautify input modal, promote node'))\n",
    "# n.toggle_complete(NR(path='tracker/UI/textual/beautify input modal'))\n",
    "# n.toggle_complete(NR(path='tracker/UI/textual/add node'))\n",
    "# n.toggle_complete(NR(path='tracker/UI/textual/promote node'))\n",
    "# n._create_node(NC(path='tracker/UI/clay-zig,android,swift,html'))\n",
    "# n._create_node(NC(path='tracker/features/filters/active nodes,priority,tomorrow,today,tags'))\n",
    "# n._create_node(NC(path='tracker/features/deadlines,recurring,backup,notify-or-alarm,tags,depends-on,enables'))"
   ]
  },
  {
   "cell_type": "code",
   "execution_count": null,
   "id": "1bfe2a28-e787-481e-bada-ad3ccc4b5f5a",
   "metadata": {},
   "outputs": [],
   "source": []
  }
 ],
 "metadata": {
  "kernelspec": {
   "display_name": "todo-tracker",
   "language": "python",
   "name": "todo-tracker"
  },
  "language_info": {
   "codemirror_mode": {
    "name": "ipython",
    "version": 3
   },
   "file_extension": ".py",
   "mimetype": "text/x-python",
   "name": "python",
   "nbconvert_exporter": "python",
   "pygments_lexer": "ipython3",
   "version": "3.13.3"
  }
 },
 "nbformat": 4,
 "nbformat_minor": 5
}
