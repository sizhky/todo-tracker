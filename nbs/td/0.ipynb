{
 "cells": [
  {
   "cell_type": "code",
   "execution_count": 1,
   "id": "3aef1f4c-adba-4015-8b42-a6e091022066",
   "metadata": {},
   "outputs": [
    {
     "name": "stdout",
     "output_type": "stream",
     "text": [
      "env: AD_MAX_ITEMS=1000\n",
      "env: AD_SHOW_FULL_STRINGS=1\n"
     ]
    }
   ],
   "source": [
    "%reload_ext autoreload\n",
    "%autoreload 2\n",
    "%env AD_MAX_ITEMS=1000\n",
    "%env AD_SHOW_FULL_STRINGS=1\n",
    "from torch_snippets import *"
   ]
  },
  {
   "cell_type": "code",
   "execution_count": 2,
   "id": "5d6c04d3-7d08-4fdc-bcb3-91822c80308f",
   "metadata": {},
   "outputs": [],
   "source": [
    "from td.v3 import NodeCrud, NodeCreate as NC, NodeType, NodeRead as NR, NodeUpdate as NU, NodeStatus"
   ]
  },
  {
   "cell_type": "code",
   "execution_count": 3,
   "id": "de9aa46c-653b-4954-8e2d-ca808e355b18",
   "metadata": {},
   "outputs": [],
   "source": [
    "n = NodeCrud()"
   ]
  },
  {
   "cell_type": "code",
   "execution_count": 15,
   "id": "cfbed678-2005-456b-aeda-a90ff7832104",
   "metadata": {},
   "outputs": [
    {
     "name": "stdout",
     "output_type": "stream",
     "text": [
      "Old Node: path='a/c/e' title='x'\n",
      "New Node: title='x' type=<NodeType.project: 200> path='a/c' status=None order=None meta=None parent_id=None\n",
      "\n",
      "\n"
     ]
    },
    {
     "data": {
      "text/plain": [
       "🧩x... (p) # 97ae @ b6a4"
      ]
     },
     "execution_count": 15,
     "metadata": {},
     "output_type": "execute_result"
    }
   ],
   "source": [
    "n.WIPE_DB()\n",
    "n._create_node(NC(path='a/b'))\n",
    "n._create_node(NC(path='a/b/c/e'))\n",
    "n.promote_node(NC(path='a/b/c'))\n",
    "n._create_node(NC(path='a/c/e'))\n",
    "n._create_node(NC(path='a/c/e/x'))\n",
    "n._update_node(NU(path='a/c/e/x', new_path='a/c/x'))\n",
    "# n.promote_node(NR(path='a/c/e/x'))\n",
    "# 'x', 'a/c/e'\n",
    "# 'x', 'a/c'\n",
    "\n",
    "# n._update_node(NU(path='a/c/x', new_status=NodeStatus.completed))"
   ]
  },
  {
   "cell_type": "code",
   "execution_count": 30,
   "id": "1e5cdba6-d78f-4609-9b4e-40549672af66",
   "metadata": {},
   "outputs": [
    {
     "name": "stdout",
     "output_type": "stream",
     "text": [
      "Old Node: path='tracker/v3/update' title='toggle'\n",
      "New Node: title='toggle' type=<NodeType.section: 300> path='tracker/v3/update' status=<NodeStatus.completed: 10> order=None meta=None parent_id=None\n",
      "\n",
      "\n",
      "Old Node: path='tracker/v3/update' title='priority'\n",
      "New Node: title='priority' type=<NodeType.section: 300> path='tracker/v3/update' status=<NodeStatus.completed: 10> order=None meta=None parent_id=None\n",
      "\n",
      "\n",
      "Old Node: path='tracker/v3/update' title='promote'\n",
      "New Node: title='promote' type=<NodeType.section: 300> path='tracker/v3/update' status=<NodeStatus.completed: 10> order=None meta=None parent_id=None\n",
      "\n",
      "\n",
      "Old Node: path='tracker/v3/update' title='change path'\n",
      "New Node: title='change path' type=<NodeType.section: 300> path='tracker/v3/update' status=<NodeStatus.completed: 10> order=None meta=None parent_id=None\n",
      "\n",
      "\n"
     ]
    },
    {
     "data": {
      "text/plain": [
       "🧩*tim... (p) # 9784 @ aa80"
      ]
     },
     "execution_count": 30,
     "metadata": {},
     "output_type": "execute_result"
    }
   ],
   "source": [
    "n.WIPE_DB()\n",
    "n._create_node(NC(path='sector/area/project/section/task/subtask'))\n",
    "n._create_node(NC(path='personal/learning,calls'))\n",
    "n._create_node(NC(path='personal/learning/RL,CUDA,Blender,Tool-Call,Agents,svelte-flow'))\n",
    "n._create_node(NC(path='personal/learning/Agents/hf-course'))\n",
    "n._create_node(NC(path='personal/learning/Tool-Call/hf-course'))\n",
    "n._create_node(NC(path='personal/calls/anji,nani,harsha,mani-teja,ranraj,dinesh'))\n",
    "n._create_node(NC(path='tracker/UI,stability,features,meta,docs,UX,v3'))\n",
    "n._create_node(NC(path='tracker/UX/add path during update,launch api+mcp+web at once'))\n",
    "n.toggle_complete(NC(path='tracker/UX/add path during update'))\n",
    "n._create_node(NC(path='tracker/v3/update/toggle,priority,promote,change path'))\n",
    "n._create_node(NC(path='tracker/v3/update/timer-ops/start-x,stop-x,stop everything,stop others and start-y,active-task,total-time-spent'))\n",
    "n._create_node(NC(path='tracker/v3/update/timer-ops/total-time-spent/today,this-week,this-month'))\n",
    "n.promote_node(NR(path='tracker/v3/update/timer-ops/'))\n",
    "n._create_node(NC(path='tracker/UI/textual/add node'))\n",
    "for i in 'toggle,priority,promote,change path'.split(','):\n",
    "    n._update_node(NU(path=f'/tracker/v3/update/{i}', new_status=NodeStatus.completed))\n",
    "\n",
    "n._create_node(NC(path='divami/onboarding/one-on-one/pramila,rajashekar,phawan,x,xx'))\n",
    "n._create_node(NC(path='divami/onboarding/clients/BY/PPT/deliver,study deck from dinesh and add new ideas'))\n",
    "# n.promote_node(NU(path='tracker/UI/textual'))\n",
    "n._create_node(NC(path='tracker/UI/textual/beautify input modal, promote node'))\n",
    "n.toggle_complete(NR(path='tracker/UI/textual/beautify input modal'))\n",
    "n.toggle_complete(NR(path='tracker/UI/textual/add node'))\n",
    "n.toggle_complete(NR(path='tracker/UI/textual/promote node'))\n",
    "n._create_node(NC(path='tracker/UI/clay-zig,android,swift,html'))\n",
    "n._create_node(NC(path='tracker/features/filters/active nodes,priority,tomorrow,today,tags'))\n",
    "n._create_node(NC(path='tracker/features/deadlines,recurring,backup,notify-or-alarm,tags,depends-on,enables'))\n",
    "n.toggle_critical(NC(path='tracker/v3/timer-ops/'))"
   ]
  },
  {
   "cell_type": "code",
   "execution_count": null,
   "id": "2f30aabb-479f-4ff0-a165-bd7e0814e1f3",
   "metadata": {},
   "outputs": [],
   "source": []
  }
 ],
 "metadata": {
  "kernelspec": {
   "display_name": "default",
   "language": "python",
   "name": "default"
  },
  "language_info": {
   "codemirror_mode": {
    "name": "ipython",
    "version": 3
   },
   "file_extension": ".py",
   "mimetype": "text/x-python",
   "name": "python",
   "nbconvert_exporter": "python",
   "pygments_lexer": "ipython3",
   "version": "3.11.10"
  }
 },
 "nbformat": 4,
 "nbformat_minor": 5
}
