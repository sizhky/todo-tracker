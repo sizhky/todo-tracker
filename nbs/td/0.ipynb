{
 "cells": [
  {
   "cell_type": "code",
   "execution_count": 1,
   "id": "3aef1f4c-adba-4015-8b42-a6e091022066",
   "metadata": {},
   "outputs": [
    {
     "name": "stdout",
     "output_type": "stream",
     "text": [
      "env: AD_MAX_ITEMS=1000\n",
      "env: AD_SHOW_FULL_STRINGS=1\n"
     ]
    }
   ],
   "source": [
    "%reload_ext autoreload\n",
    "%autoreload 2\n",
    "%env AD_MAX_ITEMS=1000\n",
    "%env AD_SHOW_FULL_STRINGS=1\n",
    "from torch_snippets import *"
   ]
  },
  {
   "cell_type": "code",
   "execution_count": 2,
   "id": "5d6c04d3-7d08-4fdc-bcb3-91822c80308f",
   "metadata": {},
   "outputs": [],
   "source": [
    "from td.v3 import NodeCrud, NodeCreate as NC, NodeType, NodeRead as NR, NodeUpdate as NU, NodeStatus"
   ]
  },
  {
   "cell_type": "code",
   "execution_count": 3,
   "id": "de9aa46c-653b-4954-8e2d-ca808e355b18",
   "metadata": {},
   "outputs": [],
   "source": [
    "n = NodeCrud()"
   ]
  },
  {
   "cell_type": "code",
   "execution_count": 15,
   "id": "cfbed678-2005-456b-aeda-a90ff7832104",
   "metadata": {},
   "outputs": [
    {
     "name": "stdout",
     "output_type": "stream",
     "text": [
      "Old Node: path='a/c/e' title='x'\n",
      "New Node: title='x' type=<NodeType.project: 200> path='a/c' status=None order=None meta=None parent_id=None\n",
      "\n",
      "\n"
     ]
    },
    {
     "data": {
      "text/plain": [
       "🧩x... (p) # 97ae @ b6a4"
      ]
     },
     "execution_count": 15,
     "metadata": {},
     "output_type": "execute_result"
    }
   ],
   "source": [
    "n.WIPE_DB()\n",
    "n._create_node(NC(path='a/b'))\n",
    "n._create_node(NC(path='a/b/c/e'))\n",
    "n.promote_node(NC(path='a/b/c'))\n",
    "n._create_node(NC(path='a/c/e'))\n",
    "n._create_node(NC(path='a/c/e/x'))\n",
    "n._update_node(NU(path='a/c/e/x', new_path='a/c/x'))\n",
    "# n.promote_node(NR(path='a/c/e/x'))\n",
    "# 'x', 'a/c/e'\n",
    "# 'x', 'a/c'\n",
    "# n._update_node(NU(path='a/c/x', new_status=NodeStatus.completed))"
   ]
  },
  {
   "cell_type": "code",
   "execution_count": 4,
   "id": "1e5cdba6-d78f-4609-9b4e-40549672af66",
   "metadata": {},
   "outputs": [
    {
     "name": "stdout",
     "output_type": "stream",
     "text": [
      "Old Node: path='tracker/v3/update' title='toggle'\n",
      "New Node: title='toggle' type=<NodeType.section: 300> path='tracker/v3/update' status=<NodeStatus.completed: 10> order=None meta=None parent_id=None\n",
      "\n",
      "\n",
      "Old Node: path='tracker/v3/update' title='priority'\n",
      "New Node: title='priority' type=<NodeType.section: 300> path='tracker/v3/update' status=<NodeStatus.completed: 10> order=None meta=None parent_id=None\n",
      "\n",
      "\n",
      "Old Node: path='tracker/v3/update' title='promote'\n",
      "New Node: title='promote' type=<NodeType.section: 300> path='tracker/v3/update' status=<NodeStatus.completed: 10> order=None meta=None parent_id=None\n",
      "\n",
      "\n",
      "Old Node: path='tracker/v3/update' title='change path'\n",
      "New Node: title='change path' type=<NodeType.section: 300> path='tracker/v3/update' status=<NodeStatus.completed: 10> order=None meta=None parent_id=None\n",
      "\n",
      "\n"
     ]
    },
    {
     "data": {
      "text/plain": [
       "[🧩dead... (p) # 6ac6 @ 3931,\n",
       " 🧩recu... (p) # 4f98 @ 3931,\n",
       " 🧩back... (p) # 05b3 @ 3931,\n",
       " 🧩noti... (p) # 78cf @ 3931,\n",
       " 🧩tags... (p) # 2e52 @ 3931,\n",
       " 🧩depe... (p) # fd52 @ 3931,\n",
       " 🧩enab... (p) # b9af @ 3931]"
      ]
     },
     "execution_count": 4,
     "metadata": {},
     "output_type": "execute_result"
    }
   ],
   "source": [
    "n.WIPE_DB()\n",
    "n._create_node(NC(path='sector/area/project/section/task/subtask'))\n",
    "n._create_node(NC(path='personal/learning,calls'))\n",
    "n._create_node(NC(path='personal/learning/RL,CUDA,Blender,Tool-Call,Agents,svelte-flow'))\n",
    "n._create_node(NC(path='personal/learning/Agents/hf-course'))\n",
    "n._create_node(NC(path='personal/learning/Tool-Call/hf-course'))\n",
    "n._create_node(NC(path='personal/calls/anji,nani,harsha,mani-teja,ranraj,dinesh'))\n",
    "n._create_node(NC(path='tracker/UI,stability,features,meta,docs,UX,v3'))\n",
    "n._create_node(NC(path='tracker/UX/add path during update,launch api+mcp+web at once'))\n",
    "n.toggle_complete(NC(path='tracker/UX/add path during update'))\n",
    "n._create_node(NC(path='tracker/v3/update/toggle,priority,promote,change path'))\n",
    "n._create_node(NC(path='tracker/v3/update/timer-ops/start-x,stop-x,stop everything,stop others and start-y,active-task,total-time-spent'))\n",
    "n._create_node(NC(path='tracker/v3/update/timer-ops/total-time-spent/today,this-week,this-month'))\n",
    "n.promote_node(NR(path='tracker/v3/update/timer-ops/'))\n",
    "n._create_node(NC(path='tracker/UI/textual/add node'))\n",
    "for i in 'toggle,priority,promote,change path'.split(','):\n",
    "    n._update_node(NU(path=f'/tracker/v3/update/{i}', new_status=NodeStatus.completed))\n",
    "\n",
    "n._create_node(NC(path='divami/onboarding/one-on-one/pramila,rajashekar,phawan,x,xx'))\n",
    "n._create_node(NC(path='divami/onboarding/clients/BY/PPT/deliver,study deck from dinesh and add new ideas'))\n",
    "n.toggle_critical(NR(path='divami/onboarding/clients/BY/PPT/study deck from dinesh and add new ideas'))\n",
    "n.toggle_critical(NR(path='tracker/v3/timer-ops'))\n",
    "n._create_node(NC(path='tracker/UI/textual/beautify input modal, promote node'))\n",
    "n.toggle_complete(NR(path='tracker/UI/textual/beautify input modal'))\n",
    "n.toggle_complete(NR(path='tracker/UI/textual/add node'))\n",
    "n.toggle_complete(NR(path='tracker/UI/textual/promote node'))\n",
    "n._create_node(NC(path='tracker/UI/clay-zig,android,swift,html'))\n",
    "n._create_node(NC(path='tracker/features/filters/active nodes,priority,tomorrow,today,tags'))\n",
    "n._create_node(NC(path='tracker/features/deadlines,recurring,backup,notify-or-alarm,tags,depends-on,enables'))"
   ]
  },
  {
   "cell_type": "code",
   "execution_count": 5,
   "id": "e786d8c2-357e-4797-af98-93345714a63e",
   "metadata": {},
   "outputs": [],
   "source": [
    "# n.tree\n",
    "# n.critical_nodes()\n",
    "\n",
    "# t = n.tree\n",
    "# crit = n.critical_nodes()\n",
    "\n",
    "# def add_node_info(crit, full_tree, suffix=''):\n",
    "#     for k, v in crit.items():\n",
    "#         key_path = f\"{suffix}.{k}\" if suffix else k\n",
    "#         try:\n",
    "#             if '__node' not in v and isinstance(v, AD):\n",
    "#                 ref = full_tree.get(key_path)\n",
    "#                 if ref and '__node' in ref:\n",
    "#                     v.__node = ref.__node\n",
    "#         except Exception as e:\n",
    "#             pass\n",
    "#             # print(f\"Error attaching __node at '{key_path}': {e}\")\n",
    "#         if isinstance(v, AD):\n",
    "#             add_node_info(v, full_tree, key_path)\n",
    "\n",
    "# add_node_info(crit, t)"
   ]
  },
  {
   "cell_type": "code",
   "execution_count": 14,
   "id": "376fa1ff-3570-48bf-bb9f-421990023d4c",
   "metadata": {},
   "outputs": [
    {
     "name": "stdout",
     "output_type": "stream",
     "text": [
      "> \u001b[32m<string>\u001b[39m(\u001b[92m25\u001b[39m)\u001b[36m_tree\u001b[39m\u001b[34m()\u001b[39m\n",
      "\n"
     ]
    },
    {
     "name": "stdin",
     "output_type": "stream",
     "text": [
      "ipdb>  c\n"
     ]
    },
    {
     "data": {
      "text/plain": [
       "['tracker/v3/*timer-ops*',\n",
       " 'tracker/v3/timer-ops/start-x',\n",
       " 'tracker/v3/timer-ops/stop-x',\n",
       " 'tracker/v3/timer-ops/stop everything',\n",
       " 'tracker/v3/timer-ops/stop others and start-y',\n",
       " 'tracker/v3/timer-ops/active-task',\n",
       " 'tracker/v3/timer-ops/total-time-spent',\n",
       " 'tracker/v3/timer-ops/total-time-spent/today',\n",
       " 'tracker/v3/timer-ops/total-time-spent/this-week',\n",
       " 'tracker/v3/timer-ops/total-time-spent/this-month',\n",
       " 'divami/onboarding/clients/BY/PPT/*study deck from dinesh and add new ideas*']"
      ]
     },
     "execution_count": 14,
     "metadata": {},
     "output_type": "execute_result"
    }
   ],
   "source": [
    "x = n.tree\n",
    "df1 = x.flatten_and_make_dataframe()\n",
    "df = df1[df1.apply(lambda row: any(isinstance(x, str) and \"*\" in x for x in row), axis=1)]\n",
    "ids = flatten(df.apply(\n",
    "    lambda row: [x.id for x in row if hasattr(x, \"id\")], axis=1\n",
    ").tolist())\n",
    "paths = flatten(df.apply(\n",
    "    lambda row: [f'{x.path}/{x.title}' for x in row if hasattr(x, \"path\")], axis=1\n",
    ").tolist())\n",
    "paths"
   ]
  },
  {
   "cell_type": "code",
   "execution_count": 24,
   "id": "8e96732d-055d-4d9f-927d-c7f07f4e3489",
   "metadata": {},
   "outputs": [
    {
     "data": {
      "text/plain": [
       "[UUID('e415400d-6050-42c8-b403-09c83fdd184c'),\n",
       " UUID('d6254473-cd7a-4538-ad3d-795212e1384f'),\n",
       " UUID('eb3adbad-9a1a-415c-8f6b-12d692fd5461'),\n",
       " UUID('c0b2b8d8-1cde-4373-8ff6-f25791cc0cb2'),\n",
       " UUID('103194c0-af3a-4488-9920-f3cbe2a0b45d'),\n",
       " UUID('55d4aaf2-61e5-45e4-af02-222db55f0b12'),\n",
       " UUID('af4e0dc8-7d9f-4c5f-92b4-2040f08bc5dd'),\n",
       " UUID('77aab4c1-f59a-41e6-8646-6ef5fff8f6fd'),\n",
       " UUID('42f0c756-6da6-4ed1-b101-d930a5c226d5'),\n",
       " UUID('71156d30-2c3f-4ef9-a107-1c79a5cfae60'),\n",
       " UUID('2728e2d9-d284-4334-af9f-736f10f30981')]"
      ]
     },
     "execution_count": 24,
     "metadata": {},
     "output_type": "execute_result"
    }
   ],
   "source": [
    "ids"
   ]
  },
  {
   "cell_type": "code",
   "execution_count": 10,
   "id": "47a72839-29b3-4005-b5e9-3fdab36edd60",
   "metadata": {},
   "outputs": [
    {
     "data": {
      "text/plain": [
       "```↯ AttrDict ↯\n",
       "sector\n",
       "  __node - 🧩sect... (sr) # 36a2 @ None (🏷️ SectorOutput)\n",
       "  area\n",
       "    __node - 🧩area... (a) # bd5b @ 36a2 (🏷️ AreaOutput)\n",
       "    project\n",
       "      __node - 🧩proj... (p) # 912c @ bd5b (🏷️ ProjectOutput)\n",
       "      section\n",
       "        __node - 🧩sect... (sn) # 4939 @ 912c (🏷️ SectionOutput)\n",
       "        task\n",
       "          __node - 🧩task... (t) # 3b3a @ 4939 (🏷️ TaskOutput)\n",
       "          subtask - 🧩subt... (st) # 6d46 @ 3b3a (🏷️ SubtaskOutput)\n",
       "personal\n",
       "  __node - 🧩pers... (sr) # dccc @ None (🏷️ SectorOutput)\n",
       "  learning\n",
       "    __node - 🧩lear... (a) # 6c3d @ dccc (🏷️ AreaOutput)\n",
       "    RL - 🧩RL... (p) # 2600 @ 6c3d (🏷️ ProjectOutput)\n",
       "    CUDA - 🧩CUDA... (p) # e612 @ 6c3d (🏷️ ProjectOutput)\n",
       "    Blender - 🧩Blen... (p) # cfb0 @ 6c3d (🏷️ ProjectOutput)\n",
       "    Tool-Call\n",
       "      __node - 🧩Tool... (p) # 4fa7 @ 6c3d (🏷️ ProjectOutput)\n",
       "      hf-course - 🧩hf-c... (sn) # 2aab @ 4fa7 (🏷️ SectionOutput)\n",
       "    Agents\n",
       "      __node - 🧩Agen... (p) # 3a5a @ 6c3d (🏷️ ProjectOutput)\n",
       "      hf-course - 🧩hf-c... (sn) # 42df @ 3a5a (🏷️ SectionOutput)\n",
       "    svelte-flow - 🧩svel... (p) # e63b @ 6c3d (🏷️ ProjectOutput)\n",
       "  calls\n",
       "    __node - 🧩call... (a) # a648 @ dccc (🏷️ AreaOutput)\n",
       "    anji - 🧩anji... (p) # 903f @ a648 (🏷️ ProjectOutput)\n",
       "    nani - 🧩nani... (p) # ea00 @ a648 (🏷️ ProjectOutput)\n",
       "    harsha - 🧩hars... (p) # 781c @ a648 (🏷️ ProjectOutput)\n",
       "    mani-teja - 🧩mani... (p) # a8eb @ a648 (🏷️ ProjectOutput)\n",
       "    ranraj - 🧩ranr... (p) # c58a @ a648 (🏷️ ProjectOutput)\n",
       "    dinesh - 🧩dine... (p) # dd6d @ a648 (🏷️ ProjectOutput)\n",
       "tracker\n",
       "  __node - 🧩trac... (sr) # 5e19 @ None (🏷️ SectorOutput)\n",
       "  UI\n",
       "    __node - 🧩UI... (a) # 6a3e @ 5e19 (🏷️ AreaOutput)\n",
       "    textual\n",
       "      __node - 🧩text... (p) # 9585 @ 6a3e (🏷️ ProjectOutput)\n",
       "      add node - 🧩add ... (sn) # d7a9 @ 9585 (🏷️ SectionOutput)\n",
       "      beautify input modal - 🧩beau... (sn) # 7c91 @ 9585 (🏷️ SectionOutput)\n",
       "      promote node - 🧩prom... (sn) # f785 @ 9585 (🏷️ SectionOutput)\n",
       "    clay-zig - 🧩clay... (p) # 8248 @ 6a3e (🏷️ ProjectOutput)\n",
       "    android - 🧩andr... (p) # 8ac2 @ 6a3e (🏷️ ProjectOutput)\n",
       "    swift - 🧩swif... (p) # 93f2 @ 6a3e (🏷️ ProjectOutput)\n",
       "    html - 🧩html... (p) # 12aa @ 6a3e (🏷️ ProjectOutput)\n",
       "  stability - 🧩stab... (a) # 298b @ 5e19 (🏷️ AreaOutput)\n",
       "  features\n",
       "    __node - 🧩feat... (a) # 3931 @ 5e19 (🏷️ AreaOutput)\n",
       "    filters\n",
       "      __node - 🧩filt... (p) # 7e60 @ 3931 (🏷️ ProjectOutput)\n",
       "      active nodes - 🧩acti... (sn) # e545 @ 7e60 (🏷️ SectionOutput)\n",
       "      priority - 🧩prio... (sn) # bb53 @ 7e60 (🏷️ SectionOutput)\n",
       "      tomorrow - 🧩tomo... (sn) # 877b @ 7e60 (🏷️ SectionOutput)\n",
       "      today - 🧩toda... (sn) # 47df @ 7e60 (🏷️ SectionOutput)\n",
       "      tags - 🧩tags... (sn) # 066c @ 7e60 (🏷️ SectionOutput)\n",
       "    deadlines - 🧩dead... (p) # 6ac6 @ 3931 (🏷️ ProjectOutput)\n",
       "    recurring - 🧩recu... (p) # 4f98 @ 3931 (🏷️ ProjectOutput)\n",
       "    backup - 🧩back... (p) # 05b3 @ 3931 (🏷️ ProjectOutput)\n",
       "    notify-or-alarm - 🧩noti... (p) # 78cf @ 3931 (🏷️ ProjectOutput)\n",
       "    tags - 🧩tags... (p) # 2e52 @ 3931 (🏷️ ProjectOutput)\n",
       "    depends-on - 🧩depe... (p) # fd52 @ 3931 (🏷️ ProjectOutput)\n",
       "    enables - 🧩enab... (p) # b9af @ 3931 (🏷️ ProjectOutput)\n",
       "  meta - 🧩meta... (a) # f429 @ 5e19 (🏷️ AreaOutput)\n",
       "  docs - 🧩docs... (a) # 951d @ 5e19 (🏷️ AreaOutput)\n",
       "  UX\n",
       "    __node - 🧩UX... (a) # c77b @ 5e19 (🏷️ AreaOutput)\n",
       "    add path during update - 🧩add ... (p) # a05b @ c77b (🏷️ ProjectOutput)\n",
       "    launch api+mcp+web at once - 🧩laun... (p) # 6623 @ c77b (🏷️ ProjectOutput)\n",
       "  v3\n",
       "    __node - 🧩v3... (a) # c1bc @ 5e19 (🏷️ AreaOutput)\n",
       "    update\n",
       "      __node - 🧩upda... (p) # 5b92 @ c1bc (🏷️ ProjectOutput)\n",
       "      toggle - 🧩togg... (sn) # 85f9 @ 5b92 (🏷️ SectionOutput)\n",
       "      priority - 🧩prio... (sn) # b5fa @ 5b92 (🏷️ SectionOutput)\n",
       "      promote - 🧩prom... (sn) # 1f66 @ 5b92 (🏷️ SectionOutput)\n",
       "      change path - 🧩chan... (sn) # 73c4 @ 5b92 (🏷️ SectionOutput)\n",
       "    *timer-ops*\n",
       "      __node - 🧩*tim... (p) # e415 @ c1bc (🏷️ ProjectOutput)\n",
       "      start-x - 🧩star... (sn) # d625 @ e415 (🏷️ SectionOutput)\n",
       "      stop-x - 🧩stop... (sn) # eb3a @ e415 (🏷️ SectionOutput)\n",
       "      stop everything - 🧩stop... (sn) # c0b2 @ e415 (🏷️ SectionOutput)\n",
       "      stop others and start-y - 🧩stop... (sn) # 1031 @ e415 (🏷️ SectionOutput)\n",
       "      active-task - 🧩acti... (sn) # 55d4 @ e415 (🏷️ SectionOutput)\n",
       "      total-time-spent\n",
       "        __node - 🧩tota... (sn) # af4e @ e415 (🏷️ SectionOutput)\n",
       "        today - 🧩toda... (t) # 77aa @ af4e (🏷️ TaskOutput)\n",
       "        this-week - 🧩this... (t) # 42f0 @ af4e (🏷️ TaskOutput)\n",
       "        this-month - 🧩this... (t) # 7115 @ af4e (🏷️ TaskOutput)\n",
       "divami\n",
       "  __node - 🧩diva... (sr) # 5e45 @ None (🏷️ SectorOutput)\n",
       "  onboarding\n",
       "    __node - 🧩onbo... (a) # 8a25 @ 5e45 (🏷️ AreaOutput)\n",
       "    one-on-one\n",
       "      __node - 🧩one-... (p) # 51f4 @ 8a25 (🏷️ ProjectOutput)\n",
       "      pramila - 🧩pram... (sn) # cd70 @ 51f4 (🏷️ SectionOutput)\n",
       "      rajashekar - 🧩raja... (sn) # cc9c @ 51f4 (🏷️ SectionOutput)\n",
       "      phawan - 🧩phaw... (sn) # a902 @ 51f4 (🏷️ SectionOutput)\n",
       "      x - 🧩x... (sn) # fdd5 @ 51f4 (🏷️ SectionOutput)\n",
       "      xx - 🧩xx... (sn) # a876 @ 51f4 (🏷️ SectionOutput)\n",
       "    clients\n",
       "      __node - 🧩clie... (p) # 0847 @ 8a25 (🏷️ ProjectOutput)\n",
       "      BY\n",
       "        __node - 🧩BY... (sn) # fccc @ 0847 (🏷️ SectionOutput)\n",
       "        PPT\n",
       "          __node - 🧩PPT... (t) # db91 @ fccc (🏷️ TaskOutput)\n",
       "          deliver - 🧩deli... (st) # 7de0 @ db91 (🏷️ SubtaskOutput)\n",
       "          *study deck from dinesh and add new ideas* - 🧩*stu... (st) # 2728 @ db91 (🏷️ SubtaskOutput)\n",
       "```"
      ]
     },
     "execution_count": 10,
     "metadata": {},
     "output_type": "execute_result"
    }
   ],
   "source": [
    "n.tree"
   ]
  },
  {
   "cell_type": "code",
   "execution_count": 27,
   "id": "e7b7ab5e-4d25-492c-9847-71a8c8d3eca7",
   "metadata": {},
   "outputs": [
    {
     "data": {
      "text/plain": [
       "[🧩sect... (sr) # 36a2 @ None,\n",
       " 🧩pers... (sr) # dccc @ None,\n",
       " 🧩trac... (sr) # 5e19 @ None,\n",
       " 🧩diva... (sr) # 5e45 @ None]"
      ]
     },
     "execution_count": 27,
     "metadata": {},
     "output_type": "execute_result"
    }
   ],
   "source": [
    "n._read_nodes()"
   ]
  },
  {
   "cell_type": "code",
   "execution_count": 28,
   "id": "262c670b-d665-49dd-9b55-b43c53888df2",
   "metadata": {},
   "outputs": [
    {
     "name": "stdout",
     "output_type": "stream",
     "text": [
      "> \u001b[32m<string>\u001b[39m(\u001b[92m24\u001b[39m)\u001b[36m_tree\u001b[39m\u001b[34m()\u001b[39m\n",
      "\n"
     ]
    },
    {
     "name": "stdin",
     "output_type": "stream",
     "text": [
      "ipdb>  c\n"
     ]
    },
    {
     "data": {
      "text/plain": [
       "```↯ AttrDict ↯\n",
       "sector\n",
       "  __node - 🧩sect... (sr) # 36a2 @ None (🏷️ SectorOutput)\n",
       "  area\n",
       "    __node - 🧩area... (a) # bd5b @ 36a2 (🏷️ AreaOutput)\n",
       "    project\n",
       "      __node - 🧩proj... (p) # 912c @ bd5b (🏷️ ProjectOutput)\n",
       "      section\n",
       "        __node - 🧩sect... (sn) # 4939 @ 912c (🏷️ SectionOutput)\n",
       "        task\n",
       "          __node - 🧩task... (t) # 3b3a @ 4939 (🏷️ TaskOutput)\n",
       "          subtask - 🧩subt... (st) # 6d46 @ 3b3a (🏷️ SubtaskOutput)\n",
       "personal\n",
       "  __node - 🧩pers... (sr) # dccc @ None (🏷️ SectorOutput)\n",
       "  learning\n",
       "    __node - 🧩lear... (a) # 6c3d @ dccc (🏷️ AreaOutput)\n",
       "    RL - 🧩RL... (p) # 2600 @ 6c3d (🏷️ ProjectOutput)\n",
       "    CUDA - 🧩CUDA... (p) # e612 @ 6c3d (🏷️ ProjectOutput)\n",
       "    Blender - 🧩Blen... (p) # cfb0 @ 6c3d (🏷️ ProjectOutput)\n",
       "    Tool-Call\n",
       "      __node - 🧩Tool... (p) # 4fa7 @ 6c3d (🏷️ ProjectOutput)\n",
       "      hf-course - 🧩hf-c... (sn) # 2aab @ 4fa7 (🏷️ SectionOutput)\n",
       "    Agents\n",
       "      __node - 🧩Agen... (p) # 3a5a @ 6c3d (🏷️ ProjectOutput)\n",
       "      hf-course - 🧩hf-c... (sn) # 42df @ 3a5a (🏷️ SectionOutput)\n",
       "    svelte-flow - 🧩svel... (p) # e63b @ 6c3d (🏷️ ProjectOutput)\n",
       "  calls\n",
       "    __node - 🧩call... (a) # a648 @ dccc (🏷️ AreaOutput)\n",
       "    anji - 🧩anji... (p) # 903f @ a648 (🏷️ ProjectOutput)\n",
       "    nani - 🧩nani... (p) # ea00 @ a648 (🏷️ ProjectOutput)\n",
       "    harsha - 🧩hars... (p) # 781c @ a648 (🏷️ ProjectOutput)\n",
       "    mani-teja - 🧩mani... (p) # a8eb @ a648 (🏷️ ProjectOutput)\n",
       "    ranraj - 🧩ranr... (p) # c58a @ a648 (🏷️ ProjectOutput)\n",
       "    dinesh - 🧩dine... (p) # dd6d @ a648 (🏷️ ProjectOutput)\n",
       "tracker\n",
       "  __node - 🧩trac... (sr) # 5e19 @ None (🏷️ SectorOutput)\n",
       "  UI\n",
       "    __node - 🧩UI... (a) # 6a3e @ 5e19 (🏷️ AreaOutput)\n",
       "    textual\n",
       "      __node - 🧩text... (p) # 9585 @ 6a3e (🏷️ ProjectOutput)\n",
       "      add node - 🧩add ... (sn) # d7a9 @ 9585 (🏷️ SectionOutput)\n",
       "      beautify input modal - 🧩beau... (sn) # 7c91 @ 9585 (🏷️ SectionOutput)\n",
       "      promote node - 🧩prom... (sn) # f785 @ 9585 (🏷️ SectionOutput)\n",
       "    clay-zig - 🧩clay... (p) # 8248 @ 6a3e (🏷️ ProjectOutput)\n",
       "    android - 🧩andr... (p) # 8ac2 @ 6a3e (🏷️ ProjectOutput)\n",
       "    swift - 🧩swif... (p) # 93f2 @ 6a3e (🏷️ ProjectOutput)\n",
       "    html - 🧩html... (p) # 12aa @ 6a3e (🏷️ ProjectOutput)\n",
       "  stability - 🧩stab... (a) # 298b @ 5e19 (🏷️ AreaOutput)\n",
       "  features\n",
       "    __node - 🧩feat... (a) # 3931 @ 5e19 (🏷️ AreaOutput)\n",
       "    filters\n",
       "      __node - 🧩filt... (p) # 7e60 @ 3931 (🏷️ ProjectOutput)\n",
       "      active nodes - 🧩acti... (sn) # e545 @ 7e60 (🏷️ SectionOutput)\n",
       "      priority - 🧩prio... (sn) # bb53 @ 7e60 (🏷️ SectionOutput)\n",
       "      tomorrow - 🧩tomo... (sn) # 877b @ 7e60 (🏷️ SectionOutput)\n",
       "      today - 🧩toda... (sn) # 47df @ 7e60 (🏷️ SectionOutput)\n",
       "      tags - 🧩tags... (sn) # 066c @ 7e60 (🏷️ SectionOutput)\n",
       "    deadlines - 🧩dead... (p) # 6ac6 @ 3931 (🏷️ ProjectOutput)\n",
       "    recurring - 🧩recu... (p) # 4f98 @ 3931 (🏷️ ProjectOutput)\n",
       "    backup - 🧩back... (p) # 05b3 @ 3931 (🏷️ ProjectOutput)\n",
       "    notify-or-alarm - 🧩noti... (p) # 78cf @ 3931 (🏷️ ProjectOutput)\n",
       "    tags - 🧩tags... (p) # 2e52 @ 3931 (🏷️ ProjectOutput)\n",
       "    depends-on - 🧩depe... (p) # fd52 @ 3931 (🏷️ ProjectOutput)\n",
       "    enables - 🧩enab... (p) # b9af @ 3931 (🏷️ ProjectOutput)\n",
       "  meta - 🧩meta... (a) # f429 @ 5e19 (🏷️ AreaOutput)\n",
       "  docs - 🧩docs... (a) # 951d @ 5e19 (🏷️ AreaOutput)\n",
       "  UX\n",
       "    __node - 🧩UX... (a) # c77b @ 5e19 (🏷️ AreaOutput)\n",
       "    add path during update - 🧩add ... (p) # a05b @ c77b (🏷️ ProjectOutput)\n",
       "    launch api+mcp+web at once - 🧩laun... (p) # 6623 @ c77b (🏷️ ProjectOutput)\n",
       "  v3\n",
       "    __node - 🧩v3... (a) # c1bc @ 5e19 (🏷️ AreaOutput)\n",
       "    update\n",
       "      __node - 🧩upda... (p) # 5b92 @ c1bc (🏷️ ProjectOutput)\n",
       "      toggle - 🧩togg... (sn) # 85f9 @ 5b92 (🏷️ SectionOutput)\n",
       "      priority - 🧩prio... (sn) # b5fa @ 5b92 (🏷️ SectionOutput)\n",
       "      promote - 🧩prom... (sn) # 1f66 @ 5b92 (🏷️ SectionOutput)\n",
       "      change path - 🧩chan... (sn) # 73c4 @ 5b92 (🏷️ SectionOutput)\n",
       "    *timer-ops*\n",
       "      __node - 🧩*tim... (p) # e415 @ c1bc (🏷️ ProjectOutput)\n",
       "      start-x - 🧩star... (sn) # d625 @ e415 (🏷️ SectionOutput)\n",
       "      stop-x - 🧩stop... (sn) # eb3a @ e415 (🏷️ SectionOutput)\n",
       "      stop everything - 🧩stop... (sn) # c0b2 @ e415 (🏷️ SectionOutput)\n",
       "      stop others and start-y - 🧩stop... (sn) # 1031 @ e415 (🏷️ SectionOutput)\n",
       "      active-task - 🧩acti... (sn) # 55d4 @ e415 (🏷️ SectionOutput)\n",
       "      total-time-spent\n",
       "        __node - 🧩tota... (sn) # af4e @ e415 (🏷️ SectionOutput)\n",
       "        today - 🧩toda... (t) # 77aa @ af4e (🏷️ TaskOutput)\n",
       "        this-week - 🧩this... (t) # 42f0 @ af4e (🏷️ TaskOutput)\n",
       "        this-month - 🧩this... (t) # 7115 @ af4e (🏷️ TaskOutput)\n",
       "divami\n",
       "  __node - 🧩diva... (sr) # 5e45 @ None (🏷️ SectorOutput)\n",
       "  onboarding\n",
       "    __node - 🧩onbo... (a) # 8a25 @ 5e45 (🏷️ AreaOutput)\n",
       "    one-on-one\n",
       "      __node - 🧩one-... (p) # 51f4 @ 8a25 (🏷️ ProjectOutput)\n",
       "      pramila - 🧩pram... (sn) # cd70 @ 51f4 (🏷️ SectionOutput)\n",
       "      rajashekar - 🧩raja... (sn) # cc9c @ 51f4 (🏷️ SectionOutput)\n",
       "      phawan - 🧩phaw... (sn) # a902 @ 51f4 (🏷️ SectionOutput)\n",
       "      x - 🧩x... (sn) # fdd5 @ 51f4 (🏷️ SectionOutput)\n",
       "      xx - 🧩xx... (sn) # a876 @ 51f4 (🏷️ SectionOutput)\n",
       "    clients\n",
       "      __node - 🧩clie... (p) # 0847 @ 8a25 (🏷️ ProjectOutput)\n",
       "      BY\n",
       "        __node - 🧩BY... (sn) # fccc @ 0847 (🏷️ SectionOutput)\n",
       "        PPT\n",
       "          __node - 🧩PPT... (t) # db91 @ fccc (🏷️ TaskOutput)\n",
       "          deliver - 🧩deli... (st) # 7de0 @ db91 (🏷️ SubtaskOutput)\n",
       "          *study deck from dinesh and add new ideas* - 🧩*stu... (st) # 2728 @ db91 (🏷️ SubtaskOutput)\n",
       "```"
      ]
     },
     "execution_count": 28,
     "metadata": {},
     "output_type": "execute_result"
    }
   ],
   "source": [
    "n.tree"
   ]
  },
  {
   "cell_type": "code",
   "execution_count": 29,
   "id": "13f12ab0-af44-4f0b-8cd5-7e285fe49a40",
   "metadata": {},
   "outputs": [],
   "source": [
    "ids = set([n.id for n in flatten([n.get_lineage(n._read_node(NR(path=p))) for p in paths])])"
   ]
  },
  {
   "cell_type": "code",
   "execution_count": 31,
   "id": "6a73186e-a0a4-467e-a9bf-24262754e515",
   "metadata": {},
   "outputs": [
    {
     "data": {
      "text/plain": [
       "```↯ AttrDict ↯\n",
       "tracker\n",
       "  __node - 🧩trac... (sr) # 5e19 @ None (🏷️ SectorOutput)\n",
       "  v3\n",
       "    __node - 🧩v3... (a) # c1bc @ 5e19 (🏷️ AreaOutput)\n",
       "    *timer-ops*\n",
       "      __node - 🧩*tim... (p) # e415 @ c1bc (🏷️ ProjectOutput)\n",
       "      start-x - 🧩star... (sn) # d625 @ e415 (🏷️ SectionOutput)\n",
       "      stop-x - 🧩stop... (sn) # eb3a @ e415 (🏷️ SectionOutput)\n",
       "      stop everything - 🧩stop... (sn) # c0b2 @ e415 (🏷️ SectionOutput)\n",
       "      stop others and start-y - 🧩stop... (sn) # 1031 @ e415 (🏷️ SectionOutput)\n",
       "      active-task - 🧩acti... (sn) # 55d4 @ e415 (🏷️ SectionOutput)\n",
       "      total-time-spent\n",
       "        __node - 🧩tota... (sn) # af4e @ e415 (🏷️ SectionOutput)\n",
       "        today - 🧩toda... (t) # 77aa @ af4e (🏷️ TaskOutput)\n",
       "        this-week - 🧩this... (t) # 42f0 @ af4e (🏷️ TaskOutput)\n",
       "        this-month - 🧩this... (t) # 7115 @ af4e (🏷️ TaskOutput)\n",
       "divami\n",
       "  __node - 🧩diva... (sr) # 5e45 @ None (🏷️ SectorOutput)\n",
       "  onboarding\n",
       "    __node - 🧩onbo... (a) # 8a25 @ 5e45 (🏷️ AreaOutput)\n",
       "    clients\n",
       "      __node - 🧩clie... (p) # 0847 @ 8a25 (🏷️ ProjectOutput)\n",
       "      BY\n",
       "        __node - 🧩BY... (sn) # fccc @ 0847 (🏷️ SectionOutput)\n",
       "        PPT\n",
       "          __node - 🧩PPT... (t) # db91 @ fccc (🏷️ TaskOutput)\n",
       "          *study deck from dinesh and add new ideas* - 🧩*stu... (st) # 2728 @ db91 (🏷️ SubtaskOutput)\n",
       "```"
      ]
     },
     "execution_count": 31,
     "metadata": {},
     "output_type": "execute_result"
    }
   ],
   "source": [
    "n.critical_nodes()"
   ]
  },
  {
   "cell_type": "code",
   "execution_count": 13,
   "id": "b808c791-12c6-4138-b2ab-4e3e93ddff03",
   "metadata": {},
   "outputs": [
    {
     "name": "stdout",
     "output_type": "stream",
     "text": [
      "> \u001b[32m<string>\u001b[39m(\u001b[92m25\u001b[39m)\u001b[36m_tree\u001b[39m\u001b[34m()\u001b[39m\n",
      "\n"
     ]
    },
    {
     "name": "stdin",
     "output_type": "stream",
     "text": [
      "ipdb>  c\n"
     ]
    },
    {
     "data": {
      "text/plain": [
       "```↯ AttrDict ↯\n",
       "update\n",
       "  __node - 🧩upda... (p) # 5b92 @ c1bc (🏷️ ProjectOutput)\n",
       "  toggle - 🧩togg... (sn) # 85f9 @ 5b92 (🏷️ SectionOutput)\n",
       "  priority - 🧩prio... (sn) # b5fa @ 5b92 (🏷️ SectionOutput)\n",
       "  promote - 🧩prom... (sn) # 1f66 @ 5b92 (🏷️ SectionOutput)\n",
       "  change path - 🧩chan... (sn) # 73c4 @ 5b92 (🏷️ SectionOutput)\n",
       "*timer-ops*\n",
       "  __node - 🧩*tim... (p) # e415 @ c1bc (🏷️ ProjectOutput)\n",
       "  start-x - 🧩star... (sn) # d625 @ e415 (🏷️ SectionOutput)\n",
       "  stop-x - 🧩stop... (sn) # eb3a @ e415 (🏷️ SectionOutput)\n",
       "  stop everything - 🧩stop... (sn) # c0b2 @ e415 (🏷️ SectionOutput)\n",
       "  stop others and start-y - 🧩stop... (sn) # 1031 @ e415 (🏷️ SectionOutput)\n",
       "  active-task - 🧩acti... (sn) # 55d4 @ e415 (🏷️ SectionOutput)\n",
       "  total-time-spent\n",
       "    __node - 🧩tota... (sn) # af4e @ e415 (🏷️ SectionOutput)\n",
       "    today - 🧩toda... (t) # 77aa @ af4e (🏷️ TaskOutput)\n",
       "    this-week - 🧩this... (t) # 42f0 @ af4e (🏷️ TaskOutput)\n",
       "    this-month - 🧩this... (t) # 7115 @ af4e (🏷️ TaskOutput)\n",
       "deliver - 🧩deli... (st) # 7de0 @ db91 (🏷️ SubtaskOutput)\n",
       "*study deck from dinesh and add new ideas* - 🧩*stu... (st) # 2728 @ db91 (🏷️ SubtaskOutput)\n",
       "```"
      ]
     },
     "execution_count": 13,
     "metadata": {},
     "output_type": "execute_result"
    }
   ],
   "source": [
    "n._tree(paths=paths)"
   ]
  },
  {
   "cell_type": "code",
   "execution_count": 49,
   "id": "3166b8bb-a533-4fa7-b8f3-3d5722256457",
   "metadata": {},
   "outputs": [
    {
     "data": {
      "text/plain": [
       "```↯ AttrDict ↯\n",
       "tracker\n",
       "  v3\n",
       "    *timer-ops*\n",
       "      __node\n",
       "        🧩*tim... (p) # 70f6 @ b7c1\n",
       "      start-x\n",
       "        🧩star... (sn) # 6846 @ 70f6\n",
       "      stop-x\n",
       "        🧩stop... (sn) # 2450 @ 70f6\n",
       "      stop everything\n",
       "        🧩stop... (sn) # 5614 @ 70f6\n",
       "      stop others and start-y\n",
       "        🧩stop... (sn) # 6188 @ 70f6\n",
       "      active-task\n",
       "        🧩acti... (sn) # 0883 @ 70f6\n",
       "      total-time-spent\n",
       "        __node\n",
       "          🧩tota... (sn) # db6e @ 70f6\n",
       "        today\n",
       "          🧩toda... (t) # 05a5 @ db6e\n",
       "        this-week\n",
       "          🧩this... (t) # 67df @ db6e\n",
       "        this-month\n",
       "          🧩this... (t) # 5f16 @ db6e\n",
       "divami\n",
       "  onboarding\n",
       "    clients\n",
       "      BY\n",
       "        PPT\n",
       "          *study deck from dinesh and add new ideas*\n",
       "            🧩*stu... (st) # b788 @ 769c\n",
       "```"
      ]
     },
     "execution_count": 49,
     "metadata": {},
     "output_type": "execute_result"
    }
   ],
   "source": [
    "from torch_snippets import AD\n",
    "\n",
    "tree = AD()\n",
    "for _, row in df.iterrows():\n",
    "    cursor = tree\n",
    "    for col in row.index:\n",
    "        val = row[col]\n",
    "        if pd.isna(val):\n",
    "            break\n",
    "        if col == \"__node\":\n",
    "            cursor[\"__node\"] = val\n",
    "        else:\n",
    "            if val not in cursor:\n",
    "                cursor[val] = AD()\n",
    "            cursor = cursor[val]\n",
    "tree"
   ]
  },
  {
   "cell_type": "code",
   "execution_count": 45,
   "id": "2f000f23-2118-442e-9468-cbf3be81d333",
   "metadata": {},
   "outputs": [
    {
     "data": {
      "text/plain": [
       "{UUID('05a5fc32-580f-4bde-bc9d-a211804c7fb2'),\n",
       " UUID('0883113f-f80e-412f-8e60-7aa38cd98283'),\n",
       " UUID('24503698-3dba-42cd-a19b-943b55069923'),\n",
       " UUID('56149ad6-86ca-48c7-b3cf-9609813525d3'),\n",
       " UUID('5f16404c-612d-46b6-a235-a93bcde9ec4d'),\n",
       " UUID('61881583-2a9a-4613-a891-e31073a45cc3'),\n",
       " UUID('67df40b1-b9ea-4471-b038-224c04343d90'),\n",
       " UUID('68468ee6-bacf-4dc0-9f8b-7b4f6d9b508e'),\n",
       " UUID('70f65e84-b6ef-4686-8c2d-09fc282596f9'),\n",
       " UUID('b78886c2-2e51-491a-bd13-a50b6fd157cb'),\n",
       " UUID('db6e10f9-3884-48b9-8c6c-d3ab0a3a4422')}"
      ]
     },
     "execution_count": 45,
     "metadata": {},
     "output_type": "execute_result"
    }
   ],
   "source": [
    "ids = set(id for sublist in df[\"__node_id\"] for id in sublist)\n",
    "ids"
   ]
  },
  {
   "cell_type": "code",
   "execution_count": 30,
   "id": "6d230dc9-b2f2-4ce8-a0da-9386d196f711",
   "metadata": {},
   "outputs": [
    {
     "data": {
      "text/plain": [
       "True"
      ]
     },
     "execution_count": 30,
     "metadata": {},
     "output_type": "execute_result"
    }
   ],
   "source": [
    "is_leaf('sector', x.sector)"
   ]
  },
  {
   "cell_type": "code",
   "execution_count": 31,
   "id": "ac20c5ed-0ff7-4c55-bdb9-f64ae4870715",
   "metadata": {},
   "outputs": [
    {
     "ename": "AttributeError",
     "evalue": "'AttrDict' object has no attribute 'children'",
     "output_type": "error",
     "traceback": [
      "\u001b[31m---------------------------------------------------------------------------\u001b[39m",
      "\u001b[31mAttributeError\u001b[39m                            Traceback (most recent call last)",
      "\u001b[36mCell\u001b[39m\u001b[36m \u001b[39m\u001b[32mIn[31]\u001b[39m\u001b[32m, line 1\u001b[39m\n\u001b[32m----> \u001b[39m\u001b[32m1\u001b[39m \u001b[43mx\u001b[49m\u001b[43m.\u001b[49m\u001b[43msector\u001b[49m\u001b[43m.\u001b[49m\u001b[43mchildren\u001b[49m\n",
      "\u001b[31mAttributeError\u001b[39m: 'AttrDict' object has no attribute 'children'"
     ]
    }
   ],
   "source": [
    "x.sector"
   ]
  },
  {
   "cell_type": "code",
   "execution_count": 20,
   "id": "58d9c437-6666-4a52-ae15-a6c1ef88e8d3",
   "metadata": {},
   "outputs": [
    {
     "data": {
      "text/plain": [
       "[🧩area... (a) # f0c8 @ c467]"
      ]
     },
     "execution_count": 20,
     "metadata": {},
     "output_type": "execute_result"
    }
   ],
   "source": [
    "x.sector.__node"
   ]
  },
  {
   "cell_type": "code",
   "execution_count": null,
   "id": "1bfe2a28-e787-481e-bada-ad3ccc4b5f5a",
   "metadata": {},
   "outputs": [],
   "source": []
  }
 ],
 "metadata": {
  "kernelspec": {
   "display_name": "default",
   "language": "python",
   "name": "default"
  },
  "language_info": {
   "codemirror_mode": {
    "name": "ipython",
    "version": 3
   },
   "file_extension": ".py",
   "mimetype": "text/x-python",
   "name": "python",
   "nbconvert_exporter": "python",
   "pygments_lexer": "ipython3",
   "version": "3.11.10"
  }
 },
 "nbformat": 4,
 "nbformat_minor": 5
}
